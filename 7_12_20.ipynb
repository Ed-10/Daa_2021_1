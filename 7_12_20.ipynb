{
  "nbformat": 4,
  "nbformat_minor": 0,
  "metadata": {
    "colab": {
      "name": "7_12_20",
      "provenance": [],
      "authorship_tag": "ABX9TyN8SzDL4au2gu2F9jHA7O1Q",
      "include_colab_link": true
    },
    "kernelspec": {
      "display_name": "Python 3",
      "name": "python3"
    }
  },
  "cells": [
    {
      "cell_type": "markdown",
      "metadata": {
        "id": "view-in-github",
        "colab_type": "text"
      },
      "source": [
        "<a href=\"https://colab.research.google.com/github/Ed-10/Daa_2021_1/blob/master/7_12_20.ipynb\" target=\"_parent\"><img src=\"https://colab.research.google.com/assets/colab-badge.svg\" alt=\"Open In Colab\"/></a>"
      ]
    },
    {
      "cell_type": "code",
      "metadata": {
        "id": "0A7nsPiW_tQ9"
      },
      "source": [
        "def fnRecInfinita():\n",
        "  print(\"Holi\")\n",
        "  fnRecInfinita()"
      ],
      "execution_count": null,
      "outputs": []
    },
    {
      "cell_type": "code",
      "metadata": {
        "id": "kWREgxgqAQNZ"
      },
      "source": [
        "fnRecInfinita()"
      ],
      "execution_count": null,
      "outputs": []
    },
    {
      "cell_type": "code",
      "metadata": {
        "colab": {
          "base_uri": "https://localhost:8080/"
        },
        "id": "aC2xfIaAATKh",
        "outputId": "6d4e2c2c-3ef9-4990-e0c2-fbaee8197943"
      },
      "source": [
        "#Esta es una funcion recursiva\n",
        "def fnRec(x):\n",
        "  if x == 0:\n",
        "    print(\"Stop\")\n",
        "  else:\n",
        "    print(x)\n",
        "    fnRec(x-1)\n",
        "\n",
        "def main():\n",
        "  print(\"Inicio del programa\")\n",
        "  fnRec(5)\n",
        "  print(\"Fin del programa\")\n",
        "\n",
        "main()"
      ],
      "execution_count": null,
      "outputs": [
        {
          "output_type": "stream",
          "text": [
            "Inicio del programa\n",
            "5\n",
            "4\n",
            "3\n",
            "2\n",
            "1\n",
            "Stop\n",
            "Fin del programa\n"
          ],
          "name": "stdout"
        }
      ]
    },
    {
      "cell_type": "code",
      "metadata": {
        "colab": {
          "base_uri": "https://localhost:8080/"
        },
        "id": "OVeIzzVKBmyX",
        "outputId": "8a1f8805-b81d-4e8c-82e3-55d8e3574ce6"
      },
      "source": [
        "def printRev(x):\n",
        "  if x > 0:\n",
        "    printRev(x-1)\n",
        "    print(x)\n",
        "\n",
        "printRev(3)"
      ],
      "execution_count": null,
      "outputs": [
        {
          "output_type": "stream",
          "text": [
            "1\n",
            "2\n",
            "3\n"
          ],
          "name": "stdout"
        }
      ]
    },
    {
      "cell_type": "code",
      "metadata": {
        "id": "63OS8MecIuup"
      },
      "source": [
        "\n",
        "def fibonacci( n ):\n",
        "    if n == 1 or n == 0:\n",
        "      return n\n",
        "    else:\n",
        "      return(fibonacci(n-1) +fibonacci(n-2) )\n",
        "print(fibonacci(50))"
      ],
      "execution_count": null,
      "outputs": []
    },
    {
      "cell_type": "code",
      "metadata": {
        "id": "-8DG5eLqt-2H"
      },
      "source": [
        "def fibonacci( n ):\n",
        "    print(\"Llamada\",n)\n",
        "    if n == 1 or n == 0:\n",
        "      return n\n",
        "    else:\n",
        "      return(fibonacci(n-1) +fibonacci(n-2) )\n",
        "print(fibonacci(10))"
      ],
      "execution_count": null,
      "outputs": []
    },
    {
      "cell_type": "markdown",
      "metadata": {
        "id": "qC5X7sPoxuax"
      },
      "source": [
        "La recursividad no siempre es la mas eficiente para poder resolver problemas"
      ]
    }
  ]
}