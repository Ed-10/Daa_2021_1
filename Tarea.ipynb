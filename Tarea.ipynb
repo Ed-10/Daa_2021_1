{
  "nbformat": 4,
  "nbformat_minor": 0,
  "metadata": {
    "colab": {
      "name": "Tarea",
      "provenance": [],
      "authorship_tag": "ABX9TyMFPRUbgV6Jrq4snyiVpWR1",
      "include_colab_link": true
    },
    "kernelspec": {
      "name": "python3",
      "display_name": "Python 3"
    }
  },
  "cells": [
    {
      "cell_type": "markdown",
      "metadata": {
        "id": "view-in-github",
        "colab_type": "text"
      },
      "source": [
        "<a href=\"https://colab.research.google.com/github/Ed-10/Daa_2021_1/blob/master/Tarea.ipynb\" target=\"_parent\"><img src=\"https://colab.research.google.com/assets/colab-badge.svg\" alt=\"Open In Colab\"/></a>"
      ]
    },
    {
      "cell_type": "code",
      "metadata": {
        "colab": {
          "base_uri": "https://localhost:8080/"
        },
        "id": "tBkbmvC7PUqT",
        "outputId": "42039c2d-d628-4ea1-aa7c-bd79869e4cff"
      },
      "source": [
        "#*Convertir en minúsculas, y quitar signos de puntuación.\n",
        "\n",
        "import string\n",
        "palabras=\"El lema que anima a la Universidad Nacional, Por mi raza hablará el espíritu,revela la vocación humanística con la que fue concebida. El autor de esta célebre frase, José Vasconcelos, asumió la rectoría en 1920, en una época en que las esperanzas de la Revolución aún estaban vivas, había una gran fe en la Patria y el ánimo redentor se extendía en el ambiente.\"\n",
        "palabras_minusculas= palabras.lower()\n",
        "translator = str.maketrans('', '', string.punctuation)\n",
        "\n",
        "print(palabras_minusculas.translate(translator))"
      ],
      "execution_count": null,
      "outputs": [
        {
          "output_type": "stream",
          "text": [
            "el lema que anima a la universidad nacional por mi raza hablará el espíriturevela la vocación humanística con la que fue concebida el autor de esta célebre frase josé vasconcelos asumió la rectoría en 1920 en una época en que las esperanzas de la revolución aún estaban vivas había una gran fe en la patria y el ánimo redentor se extendía en el ambiente\n"
          ],
          "name": "stdout"
        }
      ]
    }
  ]
}