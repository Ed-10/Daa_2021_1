{
  "nbformat": 4,
  "nbformat_minor": 0,
  "metadata": {
    "colab": {
      "name": "13_ene_daa.ipynb",
      "provenance": [],
      "authorship_tag": "ABX9TyNVWYl2Xy5Eax8Lq7qjLmqQ",
      "include_colab_link": true
    },
    "kernelspec": {
      "name": "python3",
      "display_name": "Python 3"
    }
  },
  "cells": [
    {
      "cell_type": "markdown",
      "metadata": {
        "id": "view-in-github",
        "colab_type": "text"
      },
      "source": [
        "<a href=\"https://colab.research.google.com/github/Ed-10/Daa_2021_1/blob/master/13_ene_daa.ipynb\" target=\"_parent\"><img src=\"https://colab.research.google.com/assets/colab-badge.svg\" alt=\"Open In Colab\"/></a>"
      ]
    },
    {
      "cell_type": "code",
      "metadata": {
        "id": "4vQWEOVXZbLl"
      },
      "source": [
        "class NodoArbol:\n",
        "  def __init__ (self , value , left= None, rigth= None):\n",
        "    self.data = value\n",
        "    self.left = left\n",
        "    self.rigth = rigth"
      ],
      "execution_count": 1,
      "outputs": []
    },
    {
      "cell_type": "code",
      "metadata": {
        "id": "lYtqonxeS-OO"
      },
      "source": [
        "class BinarySearchTree:\n",
        "  def _init_(self):\n",
        "    self._root  = None\n",
        "  def insert(self,value):\n",
        "    if self._root == None:\n",
        "      self._root = NodoArbol(value,None,None)\n",
        "    else:\n",
        "      #Preguntar si value es menor que root, de ser el caso\n",
        "      #insertar a la izq. Pero... puede ser el caso que el sub arbol izq ya tenga muchos elementos..\n",
        "      self._insert_nodo_( self._root , value )\n",
        "  def _insert_nodo_( self , nodo , value ):\n",
        "    if nodo.dato == value:\n",
        "      pass\n",
        "    elif value < nodo.dato: #true va a la izq\n",
        "      if nodo.left == None:# si hay espacio en la izq, ahi va\n",
        "        nodo.left = NodoArbol(value, None,None)#Insertamos el nodo \n",
        "      else:\n",
        "        self._insert_nodo_( nodo.left , value )#buscar en sub arbol izq\n",
        "    else:\n",
        "      if nodo.rigth == None:\n",
        "        nodo.right = NodoArbol(value, None, None)\n",
        "      else:\n",
        "        self._insert_nodo_( nodo.left , value )\n",
        "\n",
        "\n",
        "      "
      ],
      "execution_count": 2,
      "outputs": []
    },
    {
      "cell_type": "code",
      "metadata": {
        "id": "SRDNdPelbuN9"
      },
      "source": [
        "bst = BinarySearchTree()\n",
        "bat.insert(50)\n",
        "bat.insert(30)\n",
        "bat.insert(20)\n",
        "\n",
        "bst.search(30)#Este regresa true o false"
      ],
      "execution_count": null,
      "outputs": []
    }
  ]
}