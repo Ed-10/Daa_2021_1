{
  "nbformat": 4,
  "nbformat_minor": 0,
  "metadata": {
    "colab": {
      "name": "19/10/020.ipynb",
      "provenance": [],
      "authorship_tag": "ABX9TyOvjb86EunE1L6IUpgmtl9x",
      "include_colab_link": true
    },
    "kernelspec": {
      "name": "python3",
      "display_name": "Python 3"
    }
  },
  "cells": [
    {
      "cell_type": "markdown",
      "metadata": {
        "id": "view-in-github",
        "colab_type": "text"
      },
      "source": [
        "<a href=\"https://colab.research.google.com/github/Ed-10/Daa_2021_1/blob/master/19_10_020.ipynb\" target=\"_parent\"><img src=\"https://colab.research.google.com/assets/colab-badge.svg\" alt=\"Open In Colab\"/></a>"
      ]
    },
    {
      "cell_type": "code",
      "metadata": {
        "id": "gtl_rSI5MnU9",
        "outputId": "62a194a3-4173-45a5-9ced-838279ecfb47",
        "colab": {
          "base_uri": "https://localhost:8080/",
          "height": 255
        }
      },
      "source": [
        "a2d = [[3,2,1,],\n",
        "       [6,4,8],\n",
        "       [7,4,2]]\n",
        "\n",
        "\n",
        "print(\"Nivel 1\")\n",
        "n=3 #Esto es por que tenemos un arreglo de 3x3\n",
        "total = 0 #1\n",
        "for ren in range (n):\n",
        "  sumaRenglon = 0\n",
        "  print(\"Nivel 2\")\n",
        "  for col in range (n):\n",
        "    sumaRenglon += a2d[ren][col]\n",
        "    total += a2d[ren][col]\n",
        "    print(\"Nivel 3\")\n",
        "\n",
        "print(total)\n",
        "\n",
        "\n",
        "\n",
        "\n",
        "\n",
        "\n",
        "\n"
      ],
      "execution_count": 4,
      "outputs": [
        {
          "output_type": "stream",
          "text": [
            "Nivel 1\n",
            "Nivel 2\n",
            "Nivel 3\n",
            "Nivel 3\n",
            "Nivel 3\n",
            "Nivel 2\n",
            "Nivel 3\n",
            "Nivel 3\n",
            "Nivel 3\n",
            "Nivel 2\n",
            "Nivel 3\n",
            "Nivel 3\n",
            "Nivel 3\n",
            "37\n"
          ],
          "name": "stdout"
        }
      ]
    }
  ]
}