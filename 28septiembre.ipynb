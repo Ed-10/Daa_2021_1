{
  "nbformat": 4,
  "nbformat_minor": 0,
  "metadata": {
    "colab": {
      "name": "28septiembre.ipynb",
      "provenance": [],
      "toc_visible": true,
      "authorship_tag": "ABX9TyPiZnU9VkcChRgQ0rGVjJ8O",
      "include_colab_link": true
    },
    "kernelspec": {
      "name": "python3",
      "display_name": "Python 3"
    }
  },
  "cells": [
    {
      "cell_type": "markdown",
      "metadata": {
        "id": "view-in-github",
        "colab_type": "text"
      },
      "source": [
        "<a href=\"https://colab.research.google.com/github/Ed-10/Daa_2021_1/blob/master/28septiembre.ipynb\" target=\"_parent\"><img src=\"https://colab.research.google.com/assets/colab-badge.svg\" alt=\"Open In Colab\"/></a>"
      ]
    },
    {
      "cell_type": "code",
      "metadata": {
        "id": "tcUn2x_RCeUG"
      },
      "source": [
        ""
      ],
      "execution_count": null,
      "outputs": []
    },
    {
      "cell_type": "markdown",
      "metadata": {
        "id": "ScvTuKVwCsGZ"
      },
      "source": [
        "# Sección 1\n"
      ]
    },
    {
      "cell_type": "markdown",
      "metadata": {
        "id": "87lf1j5MFgZu"
      },
      "source": [
        "CODIGO DE EJEMPLO\n",
        "\n",
        "`\n",
        "edad=10\n",
        "print=(edad)\n",
        "\n",
        "`"
      ]
    },
    {
      "cell_type": "markdown",
      "metadata": {
        "id": "X91sprkkDG02"
      },
      "source": [
        "En este archivo vamos a usarlo para crear los proyectos de python\n"
      ]
    },
    {
      "cell_type": "code",
      "metadata": {
        "id": "Xug_rsK9GqVr",
        "outputId": "acc9da2b-44e0-43c3-d051-1ce6a47137a2",
        "colab": {
          "base_uri": "https://localhost:8080/",
          "height": 34
        }
      },
      "source": [
        "frutas=[]\n",
        "frutas.append(\"manzana\")\n",
        "frutas.append(\"piña\")\n",
        "frutas.append(\"kiwi\")\n",
        "print(frutas)"
      ],
      "execution_count": 3,
      "outputs": [
        {
          "output_type": "stream",
          "text": [
            "['manzana', 'piña', 'kiwi']\n"
          ],
          "name": "stdout"
        }
      ]
    },
    {
      "cell_type": "code",
      "metadata": {
        "id": "AyVf5T8XHr2p"
      },
      "source": [
        "archivo=open('Prueba_daa.txt','wt')\n",
        "archivo.write(\"Hola mundo Jupyter\")\n",
        "archivo.close()"
      ],
      "execution_count": 7,
      "outputs": []
    }
  ]
}