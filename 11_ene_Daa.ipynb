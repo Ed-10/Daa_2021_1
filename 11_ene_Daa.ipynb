{
  "nbformat": 4,
  "nbformat_minor": 0,
  "metadata": {
    "colab": {
      "name": "11_ene_Daa.ipynb",
      "provenance": [],
      "authorship_tag": "ABX9TyPWIgJerS08Eiq46ThizB4c",
      "include_colab_link": true
    },
    "kernelspec": {
      "name": "python3",
      "display_name": "Python 3"
    }
  },
  "cells": [
    {
      "cell_type": "markdown",
      "metadata": {
        "id": "view-in-github",
        "colab_type": "text"
      },
      "source": [
        "<a href=\"https://colab.research.google.com/github/Ed-10/Daa_2021_1/blob/master/11_ene_Daa.ipynb\" target=\"_parent\"><img src=\"https://colab.research.google.com/assets/colab-badge.svg\" alt=\"Open In Colab\"/></a>"
      ]
    },
    {
      "cell_type": "code",
      "metadata": {
        "id": "tjgc1jm-6F3F"
      },
      "source": [
        "class NodoArbol:\n",
        "  def _init_(self , value , left=None, rigth=None):\n",
        "    self.data= value\n",
        "    self.left = left\n",
        "    self.rigth = rigth\n",
        "\n"
      ],
      "execution_count": null,
      "outputs": []
    },
    {
      "cell_type": "code",
      "metadata": {
        "id": "fqLeOIiT82_o"
      },
      "source": [
        "arbol = NodoArbol(\"R\", NodoArbol(\"C\"), NodoArbol(\"H\") )"
      ],
      "execution_count": null,
      "outputs": []
    },
    {
      "cell_type": "code",
      "metadata": {
        "id": "vIvQbYB09zg1"
      },
      "source": [
        "nodo1= NodoArbol(\"C\")\n",
        "nodo2= NodoArbol(\"H\")\n",
        "arbol_v2= NodoArbol(\"R\", nodo1, nodo2 )"
      ],
      "execution_count": null,
      "outputs": []
    },
    {
      "cell_type": "code",
      "metadata": {
        "id": "HtR5r4mF-I1t"
      },
      "source": [
        "print(arbol.rigth.data)\n",
        "print(arbol_v2.rigth.data)"
      ],
      "execution_count": null,
      "outputs": []
    },
    {
      "cell_type": "code",
      "metadata": {
        "id": "9FEQVghz_KCg"
      },
      "source": [
        "arbol2= NodoArbol(4,NodoArbol(3,NodoArbol(2,NodoArbol(2))),NodoArbol(5,None,None))\n",
        "print(arbol2.left.left.left.data)"
      ],
      "execution_count": null,
      "outputs": []
    },
    {
      "cell_type": "code",
      "metadata": {
        "id": "lbIvPM2FEN_j"
      },
      "source": [
        "aux= arbol2\n",
        "while aux.left != None:\n",
        "  aux= aux.left\n",
        "print(aux.data)"
      ],
      "execution_count": null,
      "outputs": []
    },
    {
      "cell_type": "code",
      "metadata": {
        "id": "Hq-zBQVXFnTY"
      },
      "source": [
        "arbol3 = NodoArbol(\"Santi\", None , NodoArbol(\"Jesus\",NodoArbol(\"Pedro\",None,NodoArbol(\"Diana\")),None))\n",
        "print(arbol3.right.left.right.data)"
      ],
      "execution_count": null,
      "outputs": []
    }
  ]
}