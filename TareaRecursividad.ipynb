{
  "nbformat": 4,
  "nbformat_minor": 0,
  "metadata": {
    "colab": {
      "name": "TareaRecursividad.ipynb",
      "provenance": [],
      "collapsed_sections": [],
      "authorship_tag": "ABX9TyPHZg6cykIVfTe7RvXzBbtx",
      "include_colab_link": true
    },
    "kernelspec": {
      "name": "python3",
      "display_name": "Python 3"
    }
  },
  "cells": [
    {
      "cell_type": "markdown",
      "metadata": {
        "id": "view-in-github",
        "colab_type": "text"
      },
      "source": [
        "<a href=\"https://colab.research.google.com/github/Ed-10/Daa_2021_1/blob/master/TareaRecursividad.ipynb\" target=\"_parent\"><img src=\"https://colab.research.google.com/assets/colab-badge.svg\" alt=\"Open In Colab\"/></a>"
      ]
    },
    {
      "cell_type": "code",
      "metadata": {
        "colab": {
          "base_uri": "https://localhost:8080/"
        },
        "id": "GOUMqdIWD5z0",
        "outputId": "8418aa9d-5bb1-448d-fcc2-04dd06142412"
      },
      "source": [
        "def recursividad(numeros):\n",
        "  if len(numeros) == 1:\n",
        "    return numeros[0]\n",
        "  else:\n",
        "    return numeros[0] + recursividad(numeros[1:])\n",
        "print(\"La suma de la lista es:\", recursividad([1,2,3,4,5,6,7,8,9,10,11,12,13]))"
      ],
      "execution_count": null,
      "outputs": [
        {
          "output_type": "stream",
          "text": [
            "La suma de la lista es: 91\n"
          ],
          "name": "stdout"
        }
      ]
    },
    {
      "cell_type": "code",
      "metadata": {
        "colab": {
          "base_uri": "https://localhost:8080/"
        },
        "id": "TYjG6h-wRNOV",
        "outputId": "d434b981-dd64-41c8-adbc-cd4e90cbf6bf"
      },
      "source": [
        "def regresivo(x):\n",
        "  if x > 0:\n",
        "    print(x)\n",
        "    regresivo(x-1)\n",
        "    \n",
        "\n",
        "regresivo(5)"
      ],
      "execution_count": null,
      "outputs": [
        {
          "output_type": "stream",
          "text": [
            "5\n",
            "4\n",
            "3\n",
            "2\n",
            "1\n"
          ],
          "name": "stdout"
        }
      ]
    },
    {
      "cell_type": "code",
      "metadata": {
        "id": "XxsumhSRSt0w"
      },
      "source": [
        ""
      ],
      "execution_count": null,
      "outputs": []
    }
  ]
}