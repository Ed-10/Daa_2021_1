{
  "nbformat": 4,
  "nbformat_minor": 0,
  "metadata": {
    "colab": {
      "name": "30/11/20.ipynb",
      "provenance": [],
      "authorship_tag": "ABX9TyPnNZshBxexy+jhJK5vWnPH",
      "include_colab_link": true
    },
    "kernelspec": {
      "name": "python3",
      "display_name": "Python 3"
    }
  },
  "cells": [
    {
      "cell_type": "markdown",
      "metadata": {
        "id": "view-in-github",
        "colab_type": "text"
      },
      "source": [
        "<a href=\"https://colab.research.google.com/github/Ed-10/Daa_2021_1/blob/master/30_11_20.ipynb\" target=\"_parent\"><img src=\"https://colab.research.google.com/assets/colab-badge.svg\" alt=\"Open In Colab\"/></a>"
      ]
    },
    {
      "cell_type": "code",
      "metadata": {
        "id": "ZBGg0h9-n_Kd"
      },
      "source": [
        "A = \"AELASESLALSALSALSALSALSALASLSLSLSLSALALALALASALSALLSALAS\"\n",
        "P = \"SAL\"\n",
        "N = len(A)\n",
        "M = len(P)\n",
        "def fuerza_bruta(A,P):\n",
        "  for i in range ( N-M+1 ):\n",
        "    for j in range ( M ):\n",
        "        if A[i+j] != P[j]:\n",
        "            break\n",
        "        else:\n",
        "          pass\n",
        "    if j+1 == M and A[ i+j] == P[j]:\n",
        "      print(\"Encontrado en la pisicion: \",i)\n",
        "fuerza_bruta(A,P)\n",
        "        "
      ],
      "execution_count": null,
      "outputs": []
    },
    {
      "cell_type": "markdown",
      "metadata": {
        "id": "d4p4g0in0VW6"
      },
      "source": [
        "La coplefidad de este algoritmo es :\n",
        "\n",
        "O( (N-M) * M)"
      ]
    },
    {
      "cell_type": "markdown",
      "metadata": {
        "id": "lJbW070sp9zH"
      },
      "source": [
        ""
      ]
    }
  ]
}