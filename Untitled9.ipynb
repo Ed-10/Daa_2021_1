{
  "nbformat": 4,
  "nbformat_minor": 0,
  "metadata": {
    "colab": {
      "name": "Untitled9.ipynb",
      "provenance": [],
      "authorship_tag": "ABX9TyNcpI9RpAQ4a2D07fwKvR0J",
      "include_colab_link": true
    },
    "kernelspec": {
      "name": "python3",
      "display_name": "Python 3"
    }
  },
  "cells": [
    {
      "cell_type": "markdown",
      "metadata": {
        "id": "view-in-github",
        "colab_type": "text"
      },
      "source": [
        "<a href=\"https://colab.research.google.com/github/Ed-10/Daa_2021_1/blob/master/Untitled9.ipynb\" target=\"_parent\"><img src=\"https://colab.research.google.com/assets/colab-badge.svg\" alt=\"Open In Colab\"/></a>"
      ]
    },
    {
      "cell_type": "code",
      "metadata": {
        "colab": {
          "base_uri": "https://localhost:8080/",
          "height": 128
        },
        "id": "sxurr_B8NBmT",
        "outputId": "0b6ec147-771b-44fa-c60f-70919d6f1b75"
      },
      "source": [
        "class NodoA:\n",
        "  def __init__(self,value,left=None,right=None ):\n",
        "   self.data = value\n",
        "   self.left = left\n",
        "   self.right = right\n",
        "\n",
        "Arbol = NodoA(\"0\",NodoA(\"52\",NodoA(\"4\",NodoA(\"12\")),NodoA(\"11\",NodoA(\"7\",NodoA(\"10\")),NodoA(\"23\",NodoA(\"18\")))))\n",
        "auxiliar = Arbol\n",
        "\n",
        "while auxiliar.left != None:\n",
        "  auxiliar = auxiliar.left\n",
        "\n",
        "print(\"la ultima hoja del arbol es \", auxiliar.data)"
      ],
      "execution_count": 6,
      "outputs": [
        {
          "output_type": "error",
          "ename": "IndentationError",
          "evalue": "ignored",
          "traceback": [
            "\u001b[0;36m  File \u001b[0;32m\"<ipython-input-6-ac8639332211>\"\u001b[0;36m, line \u001b[0;32m3\u001b[0m\n\u001b[0;31m    self.data = value\u001b[0m\n\u001b[0m       ^\u001b[0m\n\u001b[0;31mIndentationError\u001b[0m\u001b[0;31m:\u001b[0m expected an indented block\n"
          ]
        }
      ]
    }
  ]
}