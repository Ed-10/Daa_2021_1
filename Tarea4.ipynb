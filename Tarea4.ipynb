{
  "nbformat": 4,
  "nbformat_minor": 0,
  "metadata": {
    "colab": {
      "name": "Tarea4.ipynb",
      "provenance": [],
      "authorship_tag": "ABX9TyN/VU4WSDcd0J1CBU5apfjK",
      "include_colab_link": true
    },
    "kernelspec": {
      "name": "python3",
      "display_name": "Python 3"
    }
  },
  "cells": [
    {
      "cell_type": "markdown",
      "metadata": {
        "id": "view-in-github",
        "colab_type": "text"
      },
      "source": [
        "<a href=\"https://colab.research.google.com/github/Ed-10/Daa_2021_1/blob/master/Tarea4.ipynb\" target=\"_parent\"><img src=\"https://colab.research.google.com/assets/colab-badge.svg\" alt=\"Open In Colab\"/></a>"
      ]
    },
    {
      "cell_type": "code",
      "metadata": {
        "id": "45aBFAKiEKel"
      },
      "source": [
        "def ejemplo(n):\n",
        "  count=0\n",
        "  i=n\n",
        "  print(\"1\")\n",
        "  while i >= 1:\n",
        "    count += 1\n",
        "    i = i//2\n",
        "    print(\"2\")\n",
        "  basura = 3+2\n",
        "  return count"
      ],
      "execution_count": null,
      "outputs": []
    }
  ]
}