{
  "nbformat": 4,
  "nbformat_minor": 0,
  "metadata": {
    "colab": {
      "name": "30septiembre.ipynb",
      "provenance": [],
      "authorship_tag": "ABX9TyMQFfsZSiQyT3nsHx0UsFBp",
      "include_colab_link": true
    },
    "kernelspec": {
      "name": "python3",
      "display_name": "Python 3"
    }
  },
  "cells": [
    {
      "cell_type": "markdown",
      "metadata": {
        "id": "view-in-github",
        "colab_type": "text"
      },
      "source": [
        "<a href=\"https://colab.research.google.com/github/Ed-10/Daa_2021_1/blob/master/30septiembre.ipynb\" target=\"_parent\"><img src=\"https://colab.research.google.com/assets/colab-badge.svg\" alt=\"Open In Colab\"/></a>"
      ]
    },
    {
      "cell_type": "markdown",
      "metadata": {
        "id": "gaUyUIwtRcob"
      },
      "source": [
        "#Palindromos\n",
        "\n",
        "Es una palabra que se lee, de igual dorma de un sentido y de sentido inverso como:\n",
        "oso\n",
        "reconocer\n",
        "10101\n",
        "10:01\n",
        "\n",
        "##Planteamiento del problema.\n",
        "Se desea encontrar todos los palindromos que existen en la franja horaria de un dia completo, tomando como horario inicial las 00:00 y como hora final 23:59 horas.\n",
        "\n",
        "El algoritno debe de mostrar en pantalla todos los palindromos en ese rango, al final debe de mostrar el conteo total de palindromos existentes"
      ]
    },
    {
      "cell_type": "code",
      "metadata": {
        "id": "QKDC2KfuSHks"
      },
      "source": [
        "#Solucion\n",
        "n=23.59\n",
        "c=00.00\n",
        "for c range(10):\n",
        "  print(c)\n",
        "##NO PUDE REALIZAR EL EJERCICIO \n"
      ],
      "execution_count": null,
      "outputs": []
    }
  ]
}