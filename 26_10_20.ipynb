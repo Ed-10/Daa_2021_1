{
  "nbformat": 4,
  "nbformat_minor": 0,
  "metadata": {
    "colab": {
      "name": "26/10/20.ipynb",
      "provenance": [],
      "authorship_tag": "ABX9TyNGBnckGYCp+3Rlb9C3aiG3",
      "include_colab_link": true
    },
    "kernelspec": {
      "name": "python3",
      "display_name": "Python 3"
    }
  },
  "cells": [
    {
      "cell_type": "markdown",
      "metadata": {
        "id": "view-in-github",
        "colab_type": "text"
      },
      "source": [
        "<a href=\"https://colab.research.google.com/github/Ed-10/Daa_2021_1/blob/master/26_10_20.ipynb\" target=\"_parent\"><img src=\"https://colab.research.google.com/assets/colab-badge.svg\" alt=\"Open In Colab\"/></a>"
      ]
    },
    {
      "cell_type": "code",
      "metadata": {
        "id": "XSW-KH3Xil9i"
      },
      "source": [
        "def ejemplo1( n ):\n",
        "    c = n + 1\n",
        "    d = c * n\n",
        "    e = n * n\n",
        "    total = c + e - d\n",
        "    print(f\"total={ total }\")\n",
        "ejemplo1( 99999 )"
      ],
      "execution_count": null,
      "outputs": []
    },
    {
      "cell_type": "code",
      "metadata": {
        "id": "FpbRheDMiz1u"
      },
      "source": [
        "def ejemplo2( n ):\n",
        "    contador = 0\n",
        "    for i in range( n ) :\n",
        "        for j in range( n ) :\n",
        "            contador += 1\n",
        "    return contador\n",
        "\n",
        "ejemplo2( 20 )\n",
        "\n",
        "#Esto corresponde a: 1+n²\n"
      ],
      "execution_count": null,
      "outputs": []
    },
    {
      "cell_type": "code",
      "metadata": {
        "id": "UqkDua4si2Zt"
      },
      "source": [
        "def ejemplo(n):\n",
        "   x=n*2\n",
        "   y=0\n",
        "   for m in range (100):\n",
        "        y=x-m\n",
        "   return y\n",
        "ejemplo(100)\n",
        "#Esto corresponde a 102, igual esto es una constante."
      ],
      "execution_count": null,
      "outputs": []
    },
    {
      "cell_type": "code",
      "metadata": {
        "id": "RMM0D_z2i6mg"
      },
      "source": [
        "def ejemplo4( n ):\n",
        "    x = 3 * 3.1416 + n\n",
        "    y = x + 3 * 3 - n\n",
        "    z = x + y\n",
        "    return z\n",
        "\n",
        "ejemplo4(9)\n",
        "\n",
        "#Esate es una constante y corresponde a 3, esto por eno numero de operaciones que hace."
      ],
      "execution_count": null,
      "outputs": []
    },
    {
      "cell_type": "code",
      "metadata": {
        "id": "tK73icYCi9-n"
      },
      "source": [
        "def ejemplo5( x ):\n",
        "    n = 10\n",
        "    for j in range( 0 , x , 1 ):\n",
        "        n = j + n\n",
        "    return n\n",
        "\n",
        "ejemplo5(10)\n",
        "\n",
        "#Este corresponde a 1+x"
      ],
      "execution_count": null,
      "outputs": []
    },
    {
      "cell_type": "code",
      "metadata": {
        "id": "Wfffis3-jC7v",
        "outputId": "6bd9f655-d663-490d-b08a-ff4729b34d2e",
        "colab": {
          "base_uri": "https://localhost:8080/",
          "height": 34
        }
      },
      "source": [
        "def ejemplo6( n ):\n",
        "    data=[[[1 for x in range(n)] for x in range(n)]\n",
        "          for x in range(n)]\n",
        "    suma = 0\n",
        "    for d in range(n):\n",
        "        for r in range(n):\n",
        "            for c in range(n):\n",
        "                suma += data[d][r][c]\n",
        "    return suma\n",
        "print(ejemplo6( 1000 ))\n",
        "\n",
        "#Esto corresponde a 2+ n^3"
      ],
      "execution_count": null,
      "outputs": [
        {
          "output_type": "stream",
          "text": [
            "1000000000\n"
          ],
          "name": "stdout"
        }
      ]
    },
    {
      "cell_type": "code",
      "metadata": {
        "id": "Mi2tJ14gmU1q"
      },
      "source": [
        "from time import time\n",
        "\n",
        "def ejemplo6( n ):\n",
        "    start_time = time()\n",
        "    data=[[[1 for x in range(n)] for x in range(n)] \n",
        "          for x in range(n)]\n",
        "    suma = 0\n",
        "    for d in range(n):\n",
        "        for r in range(n):\n",
        "            for c in range(n):\n",
        "                suma += data[d][r][c]\n",
        "    elapsed_time = time() - start_time\n",
        "    print(\"Tiempo transcurrido: %0.10f segundos.\" % elapsed_time)\n",
        "    return suma\n",
        "for entrada in range(100,1100,100)\n",
        "ejemplo6( 500 )"
      ],
      "execution_count": null,
      "outputs": []
    },
    {
      "cell_type": "code",
      "metadata": {
        "id": "ptif9hwzy66v"
      },
      "source": [
        "def ejemplo7( n ):\n",
        "    count = 0\n",
        "    for i in range( n ) :\n",
        "        for j in range( 25 ) :\n",
        "            for k in range( n ):\n",
        "                count += 1\n",
        "    return count\n",
        "    # 1 +25 n²"
      ],
      "execution_count": null,
      "outputs": []
    },
    {
      "cell_type": "code",
      "metadata": {
        "id": "J82QSBUW1UKD",
        "outputId": "e09f3d3c-e94f-4f8d-a2ea-8d0b6e5e5f61",
        "colab": {
          "base_uri": "https://localhost:8080/",
          "height": 34
        }
      },
      "source": [
        "def ejemplo7_2( n ):\n",
        "    count = 1\n",
        "    for i in range( n ) :\n",
        "        for j in range( 25 ) :\n",
        "            for k in range( n ):\n",
        "                count += 1\n",
        "            for k in range( n ):\n",
        "                count += 1\n",
        "    return count # 1 + 25n^2 +25n^2\n",
        "ejemplo7_2(3)# 1 + 50(3)^2"
      ],
      "execution_count": null,
      "outputs": [
        {
          "output_type": "execute_result",
          "data": {
            "text/plain": [
              "450"
            ]
          },
          "metadata": {
            "tags": []
          },
          "execution_count": 1
        }
      ]
    },
    {
      "cell_type": "code",
      "metadata": {
        "id": "d5Mo8ZAl3kQD"
      },
      "source": [
        "def ejemplo8( numeros ): # numeros es una lista (arreglo en c)\n",
        "    total = 0\n",
        "    for index in range(len(numeros)):\n",
        "        total = numeros[index]\n",
        "    return total\n",
        "ejemplo8(numeros)\n",
        "#1+n"
      ],
      "execution_count": null,
      "outputs": []
    },
    {
      "cell_type": "code",
      "metadata": {
        "id": "7LmHZdAi4qNH"
      },
      "source": [
        "def ejemplo9(  n ):\n",
        "    contador = 0\n",
        "    basura = 0\n",
        "    for i in range( n ) :\n",
        "        contador += 1\n",
        "    for j in range( n ) :\n",
        "        contador += 1\n",
        "    basura = basura + contador\n",
        "    return contador\n",
        "\n",
        "\n",
        "print(ejemplo9( 5 ))\n",
        "#3+2n"
      ],
      "execution_count": null,
      "outputs": []
    },
    {
      "cell_type": "code",
      "metadata": {
        "id": "lI1cIKos4056",
        "outputId": "8f686518-fee7-482c-e884-a395e8eaa964",
        "colab": {
          "base_uri": "https://localhost:8080/",
          "height": 34
        }
      },
      "source": [
        "def ejemplo10( n ):\n",
        "    count = 0\n",
        "    for i in range( n ) :\n",
        "        for j in range( i+1 ) :\n",
        "            count += 1\n",
        "    return count\n",
        "print(ejemplo10(4))\n",
        "#1+(n^2+n/2)"
      ],
      "execution_count": 1,
      "outputs": [
        {
          "output_type": "stream",
          "text": [
            "10\n"
          ],
          "name": "stdout"
        }
      ]
    },
    {
      "cell_type": "code",
      "metadata": {
        "id": "wJLtiAYDYsWO",
        "outputId": "e30fc470-dd3f-45e4-8f18-9a5f55bac2f9",
        "colab": {
          "base_uri": "https://localhost:8080/",
          "height": 34
        }
      },
      "source": [
        "#Simplificando el codigo\n",
        "def ejemplo10( n ):\n",
        "    count = 0\n",
        "    for i in range( n ) :\n",
        "        for j in range( i ) : #Para este casi, quitamos el +1 eliminanado una vuelta\n",
        "            count += 1\n",
        "    return count\n",
        "print(ejemplo10(5))\n",
        "\n",
        "#(n^2-n/2)\n",
        "\n",
        "#niiiiii 1^2 = 1/2 = 0\n",
        "#nniiiii 2^2 = 4/2 = 2\n",
        "#nnniiii 3^2 = 9/2 = 4\n",
        "#nnnniii 4^2 = 16/2 = 8\n",
        "#nnnnnii 5^2 = 25/2 = 12\n",
        "#nnnnnni 6^2 = 36/2 = 18\n",
        "#nnnnnnn 7^2 = 49/2 = 24\n",
        "#Con esto podemos ahorrar numero de operaciones"
      ],
      "execution_count": 14,
      "outputs": [
        {
          "output_type": "stream",
          "text": [
            "10\n"
          ],
          "name": "stdout"
        }
      ]
    },
    {
      "cell_type": "code",
      "metadata": {
        "id": "lUqm9sZxgI7B",
        "outputId": "8a3ad472-0e6b-4cb7-a5f8-a7a17a06bb4a",
        "colab": {
          "base_uri": "https://localhost:8080/",
          "height": 34
        }
      },
      "source": [
        "def ejemplo11 ( n ):\n",
        "  count = 0\n",
        "  i = n\n",
        "  while i > 1:\n",
        "    count += 1\n",
        "    i = i // 2\n",
        "  return count\n",
        "print(ejemplo11(10))\n",
        "#T(n) = 2+2log2(n) Este while puede interpretarse como un logaritmo"
      ],
      "execution_count": 22,
      "outputs": [
        {
          "output_type": "stream",
          "text": [
            "3\n"
          ],
          "name": "stdout"
        }
      ]
    },
    {
      "cell_type": "code",
      "metadata": {
        "id": "yJQrr3q3hRzp"
      },
      "source": [
        "def ejemplo11( n ):\n",
        "    count = 0\n",
        "    i = n\n",
        "    while i > 1 :\n",
        "        count += 1\n",
        "        i = i // 2 \n",
        "    return count\n",
        "print(ejemplo11(10))\n",
        "# T(n) =  2 + (2 Log 2 n)"
      ],
      "execution_count": null,
      "outputs": []
    },
    {
      "cell_type": "code",
      "metadata": {
        "id": "ugV09zQth4nc"
      },
      "source": [
        "def ejemplo12( n ):\n",
        "    contador = 0\n",
        "    for x in range(n):\n",
        "        contador += ejemplo11(x)\n",
        "    return contador\n",
        "\n",
        "  #1+n(2+2log2(n))\n"
      ],
      "execution_count": null,
      "outputs": []
    },
    {
      "cell_type": "code",
      "metadata": {
        "id": "zYGbVO81lpOW"
      },
      "source": [
        "def ejemplo13( x ):\n",
        "    bandera = x\n",
        "    contador = 0\n",
        "    while( bandera >= 10):\n",
        "        print(f\" x = { bandera } \")\n",
        "        bandera /= 10\n",
        "        contador = contador + 1\n",
        "    print(contador)\n",
        "# T(x) = log10 x +1\n",
        "ejemplo13( 100)"
      ],
      "execution_count": null,
      "outputs": []
    },
    {
      "cell_type": "code",
      "metadata": {
        "id": "r1GGxlGLmzpV"
      },
      "source": [
        "def ejemplo14( n ):\n",
        "    y = n\n",
        "    z = n\n",
        "    contador = 0\n",
        "    while y >= 3: #3\n",
        "        y /= 3  # 1\n",
        "        contador += 1  # cont =3\n",
        "    \n",
        "    while z >= 3: #27\n",
        "        z /= 3\n",
        "        contador += 1\n",
        "    return contador\n",
        "print(ejemplo14( 27 ))"
      ],
      "execution_count": null,
      "outputs": []
    },
    {
      "cell_type": "code",
      "metadata": {
        "id": "kX59FYLko12t"
      },
      "source": [
        "def ejemplo15( n ): \n",
        "    contador = 0\n",
        "    for i in range( n ) :\n",
        "        for j in range( n ) :\n",
        "            contador += 1\n",
        "            \n",
        "    while n > 1 :\n",
        "        contador += 1\n",
        "        n /= 2\n",
        "    return contador\n",
        "\n",
        "print(ejemplo15(10))"
      ],
      "execution_count": null,
      "outputs": []
    },
    {
      "cell_type": "markdown",
      "metadata": {
        "id": "x3rXTosUcko8"
      },
      "source": [
        "Notas extra:\n",
        "\"\"\"\n",
        "\n",
        "n= 3\n",
        "000\n",
        "n00 <-- aqui empieza el for interno\n",
        "nn0 <--- aqui termina el for interno\n",
        "\n",
        "n = 4\n",
        "0000\n",
        "n000 <-- aqui empieza el for interno\n",
        "nn00\n",
        "nnn0 <--- aqui termina el for interno\n",
        "\n",
        "\n",
        "n =5\n",
        "00000\n",
        "n0000 <-- aqui empieza el for interno\n",
        "nn000\n",
        "nnn00\n",
        "nnnn0 <--- aqui termina el for interno\n",
        "\n",
        "Un algoritno, es mas conveniente tenerlo a logaritmica. Pero mejor que esto seria una constante\n",
        "\"\"\""
      ]
    }
  ]
}