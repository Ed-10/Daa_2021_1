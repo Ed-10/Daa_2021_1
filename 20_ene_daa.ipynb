{
  "nbformat": 4,
  "nbformat_minor": 0,
  "metadata": {
    "colab": {
      "name": "13_ene_daa.ipynb",
      "provenance": [],
      "authorship_tag": "ABX9TyNJnG9XnAOK2vJG0TSD90Sd",
      "include_colab_link": true
    },
    "kernelspec": {
      "name": "python3",
      "display_name": "Python 3"
    }
  },
  "cells": [
    {
      "cell_type": "markdown",
      "metadata": {
        "id": "view-in-github",
        "colab_type": "text"
      },
      "source": [
        "<a href=\"https://colab.research.google.com/github/Ed-10/Daa_2021_1/blob/master/20_ene_daa.ipynb\" target=\"_parent\"><img src=\"https://colab.research.google.com/assets/colab-badge.svg\" alt=\"Open In Colab\"/></a>"
      ]
    },
    {
      "cell_type": "code",
      "metadata": {
        "id": "4vQWEOVXZbLl"
      },
      "source": [
        "class NodoArbol:\n",
        "  def __init__ (self , value , left= None, rigth= None):\n",
        "    self.data = value\n",
        "    self.left = left\n",
        "    self.rigth = rigth"
      ],
      "execution_count": 7,
      "outputs": []
    },
    {
      "cell_type": "code",
      "metadata": {
        "id": "lYtqonxeS-OO"
      },
      "source": [
        "class BinarySearchTree:\n",
        "  def _init_(self):\n",
        "    self.__root  = None\n",
        "  def insert(self,value):\n",
        "    if self.__root == None:\n",
        "      self.__root = NodoArbol(value,None,None)\n",
        "    else:\n",
        "      #Preguntar si value es menor que root, de ser el caso\n",
        "      #insertar a la izq. Pero... puede ser el caso que el sub arbol izq ya tenga muchos elementos..\n",
        "      self._insert_nodo_( self.__root , value )\n",
        "  \n",
        "  def _insert_nodo_( self , nodo , value ):\n",
        "    if nodo.dato == value:\n",
        "      pass\n",
        "    elif value < nodo.dato: #true va a la izq\n",
        "      if nodo.left == None:# si hay espacio en la izq, ahi va\n",
        "        nodo.left = NodoArbol(value, None,None)#Insertamos el nodo \n",
        "      else:\n",
        "        self._insert_nodo_( nodo.left , value )#buscar en sub arbol izq\n",
        "    else:\n",
        "      if nodo.rigth == None:\n",
        "        nodo.right = NodoArbol(value, None, None)\n",
        "      else:\n",
        "        self._insert_nodo_( nodo.left , value )\n",
        "  \n",
        "  def buscar(self , value):\n",
        "    if self.__root == None:\n",
        "      return False\n",
        "    else:\n",
        "      #Haremos busqueda recursiva\n",
        "      return self._busca_nodo(self.__root , value)\n",
        "  \n",
        "  def _busca_nodo(self, nodo, value):\n",
        "    if nodo == None:\n",
        "      return None\n",
        "    elif nodo.dato == value:\n",
        "      return nodo\n",
        "    elif value < nodo.dato:\n",
        "      return self._busca_nodo(nodo.left , value)\n",
        "    else:\n",
        "      return self._busca_nodo(nodo.rigth , value)\n",
        "  \n",
        "  def transveral(self, format = \"inorden\"):\n",
        "      if format == \"inorden\":\n",
        "          self.__recorrido_in(self.__root)\n",
        "      elif format ==\"preorden\":\n",
        "          self.__recorrido_pre(self.__root)\n",
        "      else:\n",
        "          print(\"formato no recorrido\")\n",
        "  def __recorrido_in(self, nodo):\n",
        "        if nodo != None:\n",
        "            self.__recorrido_in(nodo.left)\n",
        "            print(nodo.data,end='')\n",
        "            self.__recorrido_in(nodo.right)\n",
        "\n",
        "  def __recorrido_pre(self, nodo):\n",
        "      if nodo != None:\n",
        "          print(nodo.data, end='')\n",
        "          self.__recorrido_pre(nodo.left)\n",
        "          self.__recorrido_pre(nodo.right)\n",
        "\n",
        "  def __recorrido_pos(self, nodo):\n",
        "      if nodo != None:\n",
        "          self.__recorrido_pos(nodo.left)\n",
        "          self.__recorrido_pos(nodo.right)\n",
        "          print(nodo.data, end='')\n",
        "\n",
        "\n",
        "      "
      ],
      "execution_count": 10,
      "outputs": []
    },
    {
      "cell_type": "code",
      "metadata": {
        "id": "SRDNdPelbuN9"
      },
      "source": [
        "bst = BinarySearchTree()\n",
        "bst.insert(50)\n",
        "bst.insert(30)\n",
        "bst.insert(20)\n",
        "res.bst.buscar(30)#Este regresa true o false\n",
        "print(\"Dato : \"+str(res))\n",
        "print(bst.buscar(40))\n",
        "print(\"recorrido:\")\n",
        "bst.transversal(format=\"preorden\")"
      ],
      "execution_count": null,
      "outputs": []
    }
  ]
}