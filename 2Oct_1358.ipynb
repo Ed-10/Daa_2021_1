{
  "nbformat": 4,
  "nbformat_minor": 0,
  "metadata": {
    "colab": {
      "name": "2Oct_1358.ipynb",
      "provenance": [],
      "authorship_tag": "ABX9TyNhRg7UTRBWXBc54+Hkwni+",
      "include_colab_link": true
    },
    "kernelspec": {
      "name": "python3",
      "display_name": "Python 3"
    }
  },
  "cells": [
    {
      "cell_type": "markdown",
      "metadata": {
        "id": "view-in-github",
        "colab_type": "text"
      },
      "source": [
        "<a href=\"https://colab.research.google.com/github/Ed-10/Daa_2021_1/blob/master/2Oct_1358.ipynb\" target=\"_parent\"><img src=\"https://colab.research.google.com/assets/colab-badge.svg\" alt=\"Open In Colab\"/></a>"
      ]
    },
    {
      "cell_type": "markdown",
      "metadata": {
        "id": "ESJ1CSynicpJ"
      },
      "source": [
        "## Meteorología en México\n",
        "En Sistema meteorológico nacional lleva el registro de la lluvias desde el año 1985 y lo pone a disposición de la población por medio de la pagina datos.gob.mx.\n",
        "\n",
        "En la siguiente liga se encuentran 2  archivos separados por comas CSV correspondientes a los registros de lluvias\n",
        "mensuales y anuales de los años 2017 y 2018. En los columnas se encuentran 13,  correspondientes al promedio mensual y el promedio anual.\n",
        "En los renglones se encuentran 33, correspondientes a cada cada uno de los 32 estados y a nivel nacional.\n",
        "\n",
        "## Planteamiento del problema\n",
        "Diseñar un algoritmo y programarlo para que:\n",
        "1. Solicite por teclado el año, el estado y el mes, en base a esa información:\n",
        "- muestre en pantalla el promedio de ese mes en ese estado en el año seleccionado.\n",
        "- muestre en pantalla el promedio anual del  estado seleccionado.\n",
        "- muestre la suma de los 12 meses de ese estado en el año selecc\n",
        "ionado.\n",
        "\n",
        "2. Busque el mes que mas llovió en todos los estados durante esos dos años. Imprimir año, estado y mes.\n",
        "3. Busque el mes que menos llovió en los dos. Imprimir año, estado y mes."
      ]
    },
    {
      "cell_type": "code",
      "metadata": {
        "id": "mElAjAQzigfy"
      },
      "source": [
        "import numpy as np\n",
        "import pandas as pd\n",
        "#from pydataset import  data\n",
        "import re\n",
        "\n",
        "documento1=pd.read_csv('2017Precip.csv')\n",
        "df1=pd.DataFrame(documento1)\n",
        "\n",
        "docuemeto2=pd.read_csv('2018Precip.csv')\n",
        "df2=pd.DataFrame(documento2)\n",
        "\n",
        "n1=int(input(\"Solicite el año \"))\n",
        "if n1 =='2017':\n",
        "    print(documento1.head())\n",
        "if n2 == '2018':\n",
        "  print(documento2.head)\n",
        "\n",
        "\n",
        "n2=string(str(\"Solicite el mes: \"))\n",
        "if n2=docuemento1\n",
        "\n",
        "n3=string(str(\"Solicite el estado: \"))\n",
        "\n",
        "\n",
        "\n",
        "\n",
        "\n",
        "\n",
        "\n",
        "\n",
        "\n",
        "\n",
        "\n",
        "\n",
        "\n",
        "\n",
        "\n",
        "\n"
      ],
      "execution_count": null,
      "outputs": []
    }
  ]
}