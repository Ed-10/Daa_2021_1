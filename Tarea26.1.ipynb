{
  "nbformat": 4,
  "nbformat_minor": 0,
  "metadata": {
    "colab": {
      "name": "Tarea26.ipynb",
      "provenance": [],
      "authorship_tag": "ABX9TyM7ys42Xjaej3ZFOyKVcWSp",
      "include_colab_link": true
    },
    "kernelspec": {
      "name": "python3",
      "display_name": "Python 3"
    }
  },
  "cells": [
    {
      "cell_type": "markdown",
      "metadata": {
        "id": "view-in-github",
        "colab_type": "text"
      },
      "source": [
        "<a href=\"https://colab.research.google.com/github/Ed-10/Daa_2021_1/blob/master/Tarea26.1.ipynb\" target=\"_parent\"><img src=\"https://colab.research.google.com/assets/colab-badge.svg\" alt=\"Open In Colab\"/></a>"
      ]
    },
    {
      "cell_type": "code",
      "metadata": {
        "id": "6fpeymO4N6sb"
      },
      "source": [
        "class NodoArbol:\n",
        "  def __init__(self, dato, hijo_izq = None, hijo_der = None):\n",
        "    self.dato = dato\n",
        "    self.left = hijo_izq\n",
        "    self.right = hijo_der"
      ],
      "execution_count": null,
      "outputs": []
    },
    {
      "cell_type": "code",
      "metadata": {
        "id": "vZ56JnnQQCLh"
      },
      "source": [
        "class BinarySearchTree:\n",
        "  def __init__(self):\n",
        "    self.__root = None\n",
        "  \n",
        "  def insert(self, value):\n",
        "    if self.__root == None:\n",
        "      self.__root = NodoArbol(value, None, None)\n",
        "    else:\n",
        "      #Preguntar si value es menor que root, de ser el caso\n",
        "      #Insertar a la izq. PERO puede ser el caso que el sub arbol\n",
        "      #Izq ya tenga muchos elementos\n",
        "      self.__insert_nodo__(self.__root, value)\n",
        "\n",
        "  def __insert_nodo__(self, nodo, value):\n",
        "    if nodo.dato == value:\n",
        "      pass\n",
        "    elif value < nodo.dato: #true va a la izq\n",
        "      if nodo.left == None: #Si hay espacio en la izq, ahi va\n",
        "         nodo.left = NodoArbol(value, None, None) #Insertamos el nodo\n",
        "      else:\n",
        "        self.__insert_nodo__(nodo.left, value) #Buscar en sub arbol izq\n",
        "    else:\n",
        "      if nodo.right == None:\n",
        "        nodo.right = NodoArbol (value, None, None)\n",
        "      else:\n",
        "        self.__insert_nodo__ (nodo.right, vlue) #biscar en sub arbol de\n",
        "\n",
        "  def buscar (self, value):\n",
        "    if self.__root == None:\n",
        "      return None\n",
        "    else:\n",
        "      #Haremos busqueda recursiva\n",
        "      return self.__busca_nodo(self.__root, value)\n",
        "\n",
        "  def __busca_nodo(self, nodo, value):\n",
        "    if nodo == None:\n",
        "      return None\n",
        "    elif nodo.dato == value:\n",
        "      return nodo.dato\n",
        "    elif value < nodo.dato:\n",
        "      return self.__busca_nodo(nodo.left, value)\n",
        "    else:\n",
        "      return self.__busca_nodo(nodo.right, value)\n",
        "  \n",
        "  def transversal (self, format = \"inorden\"):\n",
        "    if format == \"inorden\":\n",
        "      self.__recorrido_in(self.__root)\n",
        "    elif format == \"preorden\":\n",
        "      self.__recorrido_pre(self.__root)\n",
        "    elif format == \"posorden\":\n",
        "      self.__recorrido_pos(self.__root)\n",
        "    else:\n",
        "      print(\"Formato de recorrido no valido\")\n",
        "  \n",
        "  def __recorrido_pre(self, nodo):\n",
        "    if nodo != None:\n",
        "      print(nodo.dato, end = \",\")\n",
        "      self.__recorrido_pre(nodo.left)\n",
        "      self.__recorrido_pre(nodo.right)\n",
        "\n",
        "  def __recorrido_in(self, nodo):\n",
        "    if nodo != None:  \n",
        "      self.__recorrido_pre(nodo.left)\n",
        "      print(nodo.dato, end = \",\")\n",
        "      self.__recorrido_pre(nodo.right)\n",
        "\n",
        "  def __recorrido_pos(self, nodo):\n",
        "    if nodo != None:  \n",
        "      self.__recorrido_pre(nodo.left)\n",
        "      self.__recorrido_pre(nodo.right)\n",
        "      print(nodo.dato, end = \",\")"
      ],
      "execution_count": null,
      "outputs": []
    },
    {
      "cell_type": "code",
      "metadata": {
        "id": "B9a2d3EDQGkI"
      },
      "source": [
        "bst = BinarySearchTree()\n",
        "bst.insert(50)\n",
        "bst.insert(20)\n",
        "bst.insert(60)\n",
        "bst.insert(80)\n",
        "bst.insert(90)\n",
        "bst.insert(85)\n",
        "res = bst.buscar(15) \n",
        "print(\"Dato: \" + str(res))\n",
        "print(bst.buscar(20))\n",
        "print(\"Recorrido pre:\")\n",
        "bst.transversal(format = \"preorden\")\n",
        "print(\"\\n Recorrido in:\")\n",
        "bst.transversal(format = \"inorden\")\n",
        "print(\"\\n Recorrido pos:\")\n",
        "bst.eliminarnodo(20)\n",
        "print(\"\\n\")\n",
        "print(\"Arbol nuevo despues de eliminar el nodo: \")\n",
        "bst.transversal(format = \"inorden\")"
      ],
      "execution_count": null,
      "outputs": []
    }
  ]
}