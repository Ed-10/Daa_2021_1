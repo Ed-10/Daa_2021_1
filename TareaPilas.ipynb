{
  "nbformat": 4,
  "nbformat_minor": 0,
  "metadata": {
    "colab": {
      "name": "TareaPilas.ipynb",
      "provenance": [],
      "collapsed_sections": [],
      "authorship_tag": "ABX9TyMu+F97ddVrLPk181EzHwwJ",
      "include_colab_link": true
    },
    "kernelspec": {
      "name": "python3",
      "display_name": "Python 3"
    }
  },
  "cells": [
    {
      "cell_type": "markdown",
      "metadata": {
        "id": "view-in-github",
        "colab_type": "text"
      },
      "source": [
        "<a href=\"https://colab.research.google.com/github/Ed-10/Daa_2021_1/blob/master/TareaPilas.ipynb\" target=\"_parent\"><img src=\"https://colab.research.google.com/assets/colab-badge.svg\" alt=\"Open In Colab\"/></a>"
      ]
    },
    {
      "cell_type": "code",
      "metadata": {
        "id": "vUAZhanF87bc"
      },
      "source": [
        "class stack():\n",
        "  def __init__(self):\n",
        "    self._datos=[]\n",
        "\n",
        "  def empty(self):\n",
        "    return len(self._datos) == 0\n",
        "\n",
        "  def get_top(self):\n",
        "    return self._datos[-1]\n",
        "\n",
        "  def pop(self):#Este se encarga de eliminar elementos\n",
        "    return self._datos.pop()\n",
        "\n",
        "  def push(self, valor):#Este se encarga de agregar elementos\n",
        "    self._datos.append(valor)\n",
        "         \n",
        "  def get_length(self):\n",
        "    return len(self._datos)\n",
        "\n",
        "  def to_string(self):\n",
        "      print(\"|==========|\")\n",
        "      for ele in self._datos[-1::-1]:\n",
        "        print(f\"{ ele }\")\n",
        "      print(\"|==========|\")\n"
      ],
      "execution_count": null,
      "outputs": []
    },
    {
      "cell_type": "code",
      "metadata": {
        "id": "LxPjF-UmWvee"
      },
      "source": [
        "def Simbolos(simbolos):\n",
        "  s=stack()\n",
        "  balanceados=True\n",
        "  INDICE=0\n",
        "  while INDICE < len(simbolos) and balanceados:\n",
        "    simbolo1 = simbolos[INDICE]\n",
        "    if simbolo1 in \"({[\":\n",
        "        s.push(simbolo1)            \n",
        "    else:\n",
        "      if s.empty():\n",
        "        balanceados=False\n",
        "      else:\n",
        "        tope=s.pop()\n",
        "        if not parejas(tope,simbolo1):\n",
        "          balanceados=False\n",
        "    INDICE=INDICE+1\n",
        "  if balanceados and s.empty():\n",
        "    return True\n",
        "  else:\n",
        "    return False\n",
        "def parejas(simboloApertura,simboloCierre):\n",
        "  aperturas=\"({[\"\n",
        "  cierre=\")}]\"\n",
        "  return aperturas.index(simboloApertura)==cierre.index(simboloCierre)\n",
        "print(Simbolos('{{([][])}()}'))\n",
        "print(Simbolos('[{()]'))\n",
        "        "
      ],
      "execution_count": null,
      "outputs": []
    }
  ]
}