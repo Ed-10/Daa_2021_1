{
  "nbformat": 4,
  "nbformat_minor": 0,
  "metadata": {
    "colab": {
      "name": "Untitled1.ipynb",
      "provenance": [],
      "authorship_tag": "ABX9TyO9rxD+/TSZ0SHqPAZEwwpX",
      "include_colab_link": true
    },
    "kernelspec": {
      "name": "python3",
      "display_name": "Python 3"
    }
  },
  "cells": [
    {
      "cell_type": "markdown",
      "metadata": {
        "id": "view-in-github",
        "colab_type": "text"
      },
      "source": [
        "<a href=\"https://colab.research.google.com/github/Ed-10/Daa_2021_1/blob/master/7oct.ipynb\" target=\"_parent\"><img src=\"https://colab.research.google.com/assets/colab-badge.svg\" alt=\"Open In Colab\"/></a>"
      ]
    },
    {
      "cell_type": "markdown",
      "metadata": {
        "id": "eaACkUOBSmxB"
      },
      "source": [
        "# BUSQUEDA LINEAL\n",
        "\n",
        "Dada un conjunto de datos ordenados, la busqueda lineal conciste en recorrer el conjunto de datos desde el inicio al final, moviendonos de uno en uno hasta encontrar el lemento o llegar al funal del conjunto\n",
        "\n",
        "datos = [ 4,18,47,2,34,14,78,12,48,21,31,19,1,3,5]\n",
        "\n",
        "#BUSQUEDA BINARIA\n",
        "\n",
        "Funciona sobre un conjunto de datos lineal ordenado\n",
        "\n",
        "Consite en dividir el conjunto en mitadoes y busca en esa mitad el elemento buscado, no esta en la mitad, preguntas si el lemento esta a la derecha o a la izquierda. \n",
        "\n",
        "Hace la lista igual a la mitad correspondiente y repite el proceso.\n",
        "\n",
        "L = [ 4,18,47,2,34,14,78,12,48,21,31,19,1,3,5 ]\n",
        "\n",
        "DER = longitud(L)-1 \n",
        "\n",
        "IZQ = 0\n",
        "\n",
        "MID = 0 (Apuntara a la mitad del segmento de busqueda)\n",
        "\n",
        "buscado: es el valor a buscar (47)\n",
        "\n",
        "1. Hacer DER = longitud(L)-1\n",
        "2. Hacer IZQ = 0\n",
        "3.  si IZQ > DER significa que hay un error en los datos\n",
        "4. calcular MID = int( (IZQ + DER) / 2 )\n",
        "5. mientras L(MID) != buscado hacer\n",
        "6.     - preguntar L[MID] > buscado\n",
        "              - hacer DER = MID\n",
        "       - De lo contrario\n",
        "               - hacer IZQ = MID\n",
        "        - preguntar (DER - IZQ) %2\n",
        "               - MID = (IZQ + ((DER-IZQ / 2)) +1\n",
        "        - de lo contrario\n",
        "               - MID = IZQ + ((DER-IZQ) / 2)\n",
        "7. return MID             \n"
      ]
    },
    {
      "cell_type": "code",
      "metadata": {
        "id": "3MJ1gL-KTq0Y",
        "outputId": "d6687f82-6cdf-4b85-b0c8-84e1d93e21f1",
        "colab": {
          "base_uri": "https://localhost:8080/",
          "height": 476
        }
      },
      "source": [
        "#Busqueda lineal, regresa la pocicion del elemento buscado si se encuentra dentro de la lista.\n",
        "#Regresa -1 si el elemento buscado no existe dentro de la lista\n",
        "\n",
        "def busq_lineal(L , buscado):\n",
        "  indice = -1\n",
        "  contador=0\n",
        "  for idx in range(len(L)):\n",
        "    contador += 1\n",
        "    if L[idx] == buscado:\n",
        "      indice = idx\n",
        "      break\n",
        "  print(f\"Numero de comparacio0nes realizadas={contador}\")\n",
        "  return indice\n",
        "\n",
        "#Busqueda binaria\n",
        "def busqueda_binaria(L , busqueda):\n",
        "  IZQ = 0\n",
        "  DER = len(L)-1\n",
        "  MID = int((IZQ + DER) / 2)\n",
        "  if len(L) % 2 == 0:\n",
        "    MID = (DER //2)+1\n",
        "  else:\n",
        "    MID = DER //2\n",
        "  while (L(MID) != buscado):\n",
        "    if L(MID) > buscado:\n",
        "      DER = MID\n",
        "    else:\n",
        "      IZQ = MID\n",
        "    if (DER - IZQ) % 2 == 0:\n",
        "      MID = (IZQ+((DER - IZQ)//2))+1\n",
        "    else:\n",
        "      MID - IZQ + ((DER-IZQ)//2)-1\n",
        "  return MID\n",
        "\n",
        "\n",
        "def main():\n",
        "  datos = [ 4,18,47,2,34,14,78,12,48,21,31,19,1,3,5]\n",
        "  dato = int(input(\"Que valor desea buscar: \"))\n",
        "  resultado=busq_lineal(datos , dato)\n",
        "  print(\"EL resultado se encuentra en la pisicion \",resultado)\n",
        "  print(\"Busqueda lineal en una lista ordenada\")\n",
        "  datos.sort()\n",
        "  print(datos)\n",
        "  print(\"Busqueda binaria\")\n",
        "  posicion=busqueda_binaria(datos,dato)\n",
        "  print(f\"El elemento {dato} esta en la posicin {datos}\")\n",
        "\n",
        "main()\n",
        "\n",
        "  \n"
      ],
      "execution_count": 11,
      "outputs": [
        {
          "output_type": "stream",
          "text": [
            "Que valor desea buscar: 47\n",
            "Numero de comparacio0nes realizadas=3\n",
            "EL resultado se encuentra en la pisicion  2\n",
            "Busqueda lineal en una lista ordenada\n",
            "[1, 2, 3, 4, 5, 12, 14, 18, 19, 21, 31, 34, 47, 48, 78]\n",
            "Busqueda binaria\n"
          ],
          "name": "stdout"
        },
        {
          "output_type": "error",
          "ename": "TypeError",
          "evalue": "ignored",
          "traceback": [
            "\u001b[0;31m---------------------------------------------------------------------------\u001b[0m",
            "\u001b[0;31mTypeError\u001b[0m                                 Traceback (most recent call last)",
            "\u001b[0;32m<ipython-input-11-5925e1852ee3>\u001b[0m in \u001b[0;36m<module>\u001b[0;34m()\u001b[0m\n\u001b[1;32m     46\u001b[0m   \u001b[0mprint\u001b[0m\u001b[0;34m(\u001b[0m\u001b[0;34mf\"El elemento {dato} esta en la posicin {datos}\"\u001b[0m\u001b[0;34m)\u001b[0m\u001b[0;34m\u001b[0m\u001b[0;34m\u001b[0m\u001b[0m\n\u001b[1;32m     47\u001b[0m \u001b[0;34m\u001b[0m\u001b[0m\n\u001b[0;32m---> 48\u001b[0;31m \u001b[0mmain\u001b[0m\u001b[0;34m(\u001b[0m\u001b[0;34m)\u001b[0m\u001b[0;34m\u001b[0m\u001b[0;34m\u001b[0m\u001b[0m\n\u001b[0m\u001b[1;32m     49\u001b[0m \u001b[0;34m\u001b[0m\u001b[0m\n\u001b[1;32m     50\u001b[0m \u001b[0;34m\u001b[0m\u001b[0m\n",
            "\u001b[0;32m<ipython-input-11-5925e1852ee3>\u001b[0m in \u001b[0;36mmain\u001b[0;34m()\u001b[0m\n\u001b[1;32m     43\u001b[0m   \u001b[0mprint\u001b[0m\u001b[0;34m(\u001b[0m\u001b[0mdatos\u001b[0m\u001b[0;34m)\u001b[0m\u001b[0;34m\u001b[0m\u001b[0;34m\u001b[0m\u001b[0m\n\u001b[1;32m     44\u001b[0m   \u001b[0mprint\u001b[0m\u001b[0;34m(\u001b[0m\u001b[0;34m\"Busqueda binaria\"\u001b[0m\u001b[0;34m)\u001b[0m\u001b[0;34m\u001b[0m\u001b[0;34m\u001b[0m\u001b[0m\n\u001b[0;32m---> 45\u001b[0;31m   \u001b[0mposicion\u001b[0m\u001b[0;34m=\u001b[0m\u001b[0mbusqueda_binaria\u001b[0m\u001b[0;34m(\u001b[0m\u001b[0mdatos\u001b[0m\u001b[0;34m,\u001b[0m\u001b[0mdato\u001b[0m\u001b[0;34m)\u001b[0m\u001b[0;34m\u001b[0m\u001b[0;34m\u001b[0m\u001b[0m\n\u001b[0m\u001b[1;32m     46\u001b[0m   \u001b[0mprint\u001b[0m\u001b[0;34m(\u001b[0m\u001b[0;34mf\"El elemento {dato} esta en la posicin {datos}\"\u001b[0m\u001b[0;34m)\u001b[0m\u001b[0;34m\u001b[0m\u001b[0;34m\u001b[0m\u001b[0m\n\u001b[1;32m     47\u001b[0m \u001b[0;34m\u001b[0m\u001b[0m\n",
            "\u001b[0;32m<ipython-input-11-5925e1852ee3>\u001b[0m in \u001b[0;36mbusqueda_binaria\u001b[0;34m(L, busqueda)\u001b[0m\n\u001b[1;32m     22\u001b[0m   \u001b[0;32melse\u001b[0m\u001b[0;34m:\u001b[0m\u001b[0;34m\u001b[0m\u001b[0;34m\u001b[0m\u001b[0m\n\u001b[1;32m     23\u001b[0m     \u001b[0mMID\u001b[0m \u001b[0;34m=\u001b[0m \u001b[0mDER\u001b[0m \u001b[0;34m//\u001b[0m\u001b[0;36m2\u001b[0m\u001b[0;34m\u001b[0m\u001b[0;34m\u001b[0m\u001b[0m\n\u001b[0;32m---> 24\u001b[0;31m   \u001b[0;32mwhile\u001b[0m \u001b[0;34m(\u001b[0m\u001b[0mL\u001b[0m\u001b[0;34m(\u001b[0m\u001b[0mMID\u001b[0m\u001b[0;34m)\u001b[0m \u001b[0;34m!=\u001b[0m \u001b[0mbuscado\u001b[0m\u001b[0;34m)\u001b[0m\u001b[0;34m:\u001b[0m\u001b[0;34m\u001b[0m\u001b[0;34m\u001b[0m\u001b[0m\n\u001b[0m\u001b[1;32m     25\u001b[0m     \u001b[0;32mif\u001b[0m \u001b[0mL\u001b[0m\u001b[0;34m(\u001b[0m\u001b[0mMID\u001b[0m\u001b[0;34m)\u001b[0m \u001b[0;34m>\u001b[0m \u001b[0mbuscado\u001b[0m\u001b[0;34m:\u001b[0m\u001b[0;34m\u001b[0m\u001b[0;34m\u001b[0m\u001b[0m\n\u001b[1;32m     26\u001b[0m       \u001b[0mDER\u001b[0m \u001b[0;34m=\u001b[0m \u001b[0mMID\u001b[0m\u001b[0;34m\u001b[0m\u001b[0;34m\u001b[0m\u001b[0m\n",
            "\u001b[0;31mTypeError\u001b[0m: 'list' object is not callable"
          ]
        }
      ]
    }
  ]
}